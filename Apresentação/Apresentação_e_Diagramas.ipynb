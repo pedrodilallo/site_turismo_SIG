{
 "cells": [
  {
   "cell_type": "markdown",
   "metadata": {},
   "source": [
    "# Sistema Informação Gerencial para uma transportadora"
   ]
  },
  {
   "cell_type": "markdown",
   "metadata": {},
   "source": [
    "## Escolha do Problema"
   ]
  },
  {
   "cell_type": "markdown",
   "metadata": {},
   "source": [
    "A indústria de transporte desempenha um papel vital na economia global, garantindo o fluxo de mercadorias e serviços. As transportadoras enfrentam desafios operacionais, logísticos e econômicos complexos, que exigem abordagens inovadoras para aprimorar suas atividades e se manterem competitivas em um mercado em constante evolução. A Engenharia de Produção, com sua abordagem sistêmica e conhecimentos multidisciplinares em Pesquisa Operacional, Logística, Economia e Computação, destaca-se como uma disciplina capaz de enfrentar esses desafios por meio da construção de um sistema de informações.\n"
   ]
  },
  {
   "cell_type": "markdown",
   "metadata": {},
   "source": [
    "Um sistema de informações bem projetado e implementado desempenha um papel crucial na resolução de problemas em uma transportadora. Ele consiste em uma infraestrutura tecnológica e processos organizacionais para coletar, armazenar, processar e disseminar informações relevantes em tempo real. Para isso será necessária a coleta sistemática de dados precisos sobre todas as atividades da transportadora, como roteirização, tempos de entrega, desempenho de motoristas e custos operacionais. Esses dados fornecem uma visão completa das operações, identificando gargalos, pontos de ineficiência e áreas que requerem melhorias."
   ]
  },
  {
   "cell_type": "markdown",
   "metadata": {},
   "source": [
    "## Descrição Detalhada do Caso"
   ]
  },
  {
   "cell_type": "markdown",
   "metadata": {},
   "source": [
    "A transportadora em questão é uma empresa estabelecida, com múltiplos centros de distribuição espalhados por diferentes regiões geográficas. Cada centro de distribuição opera de forma similar, tratando diariamente com pedidos de clientes e realizando entregas para atender à demanda. Os principais atores envolvidos nesse cenário são os gestores, a equipe de logística em cada centro de distribuição, a equipe de estoque e suprimentos em cada local, os motoristas, os clientes finais e os \"Vendedores\".\n",
    "\n",
    "Os gestores são responsáveis pela tomada de decisões estratégicas para a empresa como um todo, buscando otimizar as operações em cada centro de distribuição. Eles necessitam de um sistema que forneça informações consolidadas de todos os locais para suportar suas decisões.\n",
    "\n",
    "A equipe de logística em cada centro de distribuição é encarregada de planejar e executar as operações logísticas locais. Eles precisam de soluções específicas para cada centro, levando em consideração as particularidades geográficas e as demandas locais para otimizar o processo de distribuição e entrega dos pedidos.\n",
    "\n",
    "A equipe de estoque e suprimentos em cada centro de distribuição é responsável por gerenciar os estoques locais, garantindo que haja produtos suficientes para atender aos pedidos dos clientes. Eles necessitam de um sistema que permita o controle preciso dos níveis de estoque e facilite o processo de reposição quando necessário.\n",
    "\n",
    "Os motoristas são os responsáveis por realizar as entregas em cada centro de distribuição. Eles precisam de ferramentas para informar para qual centro de distribuição o caminhão foi enviado, registrar o tempo de realização das entregas e outras métricas de eficiência, como tempo gasto em cada entrega e ocorrência de atrasos.\n",
    "\n",
    "Os clientes finais são os destinatários finais dos produtos entregues pela transportadora. Eles devem receber os produtos, avaliar a qualidade da entrega e efetuar o pagamento pelo serviço prestado.\n",
    "\n",
    "Os \"Vendedores\" são intermediários entre os clientes finais e a transportadora. Eles entregam os produtos à transportadora para que as entregas sejam realizadas aos clientes finais. É importante que os \"Vendedores\" possam monitorar o status das entregas, mas não possuam a capacidade de cancelá-las, visto que o pagamento é efetuado pelo cliente final.\n",
    "\n",
    "No cenário atual, a transportadora enfrenta desafios relacionados à gestão eficiente das operações em seus múltiplos centros de distribuição, garantindo que os pedidos sejam entregues de maneira adequada e dentro dos prazos acordados com os clientes finais. Além disso, é importante possibilitar que os gestores e operadores tenham acesso aos dados do sistema para monitorar o desempenho geral da empresa, identificar oportunidades de melhoria e tomar decisões informadas. É necessário, também, estabelecer um mecanismo de avaliação das entregas pelos clientes finais, garantindo sua satisfação e aprimorando a qualidade do serviço prestado. O sistema deve ser projetado para atender a essas necessidades, proporcionando uma gestão eficiente, rastreabilidade das entregas, acompanhamento do desempenho dos motoristas e satisfação dos clientes finais."
   ]
  },
  {
   "cell_type": "markdown",
   "metadata": {},
   "source": [
    "## Levantamento e Análise dos Requisitos do Usuário"
   ]
  },
  {
   "cell_type": "markdown",
   "metadata": {},
   "source": []
  }
 ],
 "metadata": {
  "language_info": {
   "name": "python"
  },
  "orig_nbformat": 4
 },
 "nbformat": 4,
 "nbformat_minor": 2
}
